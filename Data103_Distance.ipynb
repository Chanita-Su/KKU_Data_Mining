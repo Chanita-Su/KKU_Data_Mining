{
  "nbformat": 4,
  "nbformat_minor": 0,
  "metadata": {
    "colab": {
      "name": "Data103 Distance.ipynb",
      "provenance": [],
      "authorship_tag": "ABX9TyNL37b9PPCQPnuiPt2wh601",
      "include_colab_link": true
    },
    "kernelspec": {
      "name": "python3",
      "display_name": "Python 3"
    }
  },
  "cells": [
    {
      "cell_type": "markdown",
      "metadata": {
        "id": "view-in-github",
        "colab_type": "text"
      },
      "source": [
        "<a href=\"https://colab.research.google.com/github/Chanita-Su/KKU_Data_Mining/blob/master/Data103_Distance.ipynb\" target=\"_parent\"><img src=\"https://colab.research.google.com/assets/colab-badge.svg\" alt=\"Open In Colab\"/></a>"
      ]
    },
    {
      "cell_type": "code",
      "metadata": {
        "id": "ay2Oz4uVsFHT",
        "colab_type": "code",
        "colab": {}
      },
      "source": [
        "import numpy as np"
      ],
      "execution_count": 11,
      "outputs": []
    },
    {
      "cell_type": "markdown",
      "metadata": {
        "id": "Y0W_TlHHsdq6",
        "colab_type": "text"
      },
      "source": [
        "##numpy array"
      ]
    },
    {
      "cell_type": "code",
      "metadata": {
        "id": "06zcd5NhsWbR",
        "colab_type": "code",
        "colab": {
          "base_uri": "https://localhost:8080/",
          "height": 52
        },
        "outputId": "37134270-3b25-4256-aa52-47e2207dc146"
      },
      "source": [
        "np1 = np.array([[1,3,5],[2,4,6]])\n",
        "np1"
      ],
      "execution_count": 12,
      "outputs": [
        {
          "output_type": "execute_result",
          "data": {
            "text/plain": [
              "array([[1, 3, 5],\n",
              "       [2, 4, 6]])"
            ]
          },
          "metadata": {
            "tags": []
          },
          "execution_count": 12
        }
      ]
    },
    {
      "cell_type": "code",
      "metadata": {
        "id": "_YpD4gykstvs",
        "colab_type": "code",
        "colab": {
          "base_uri": "https://localhost:8080/",
          "height": 87
        },
        "outputId": "0432d4fa-a562-404e-d4b9-92b78246bbc6"
      },
      "source": [
        "np2 = np.array([[1,2],[3,5],[2,0],[4,5]])\n",
        "np2"
      ],
      "execution_count": 13,
      "outputs": [
        {
          "output_type": "execute_result",
          "data": {
            "text/plain": [
              "array([[1, 2],\n",
              "       [3, 5],\n",
              "       [2, 0],\n",
              "       [4, 5]])"
            ]
          },
          "metadata": {
            "tags": []
          },
          "execution_count": 13
        }
      ]
    },
    {
      "cell_type": "markdown",
      "metadata": {
        "id": "UqebfR_yuKE3",
        "colab_type": "text"
      },
      "source": [
        "กลับหลักเป็นแถว "
      ]
    },
    {
      "cell_type": "code",
      "metadata": {
        "id": "KjguBXpNtRhN",
        "colab_type": "code",
        "colab": {
          "base_uri": "https://localhost:8080/",
          "height": 52
        },
        "outputId": "8f540b71-5736-48fc-fe08-24ca81388f11"
      },
      "source": [
        "np2.T"
      ],
      "execution_count": 14,
      "outputs": [
        {
          "output_type": "execute_result",
          "data": {
            "text/plain": [
              "array([[1, 3, 2, 4],\n",
              "       [2, 5, 0, 5]])"
            ]
          },
          "metadata": {
            "tags": []
          },
          "execution_count": 14
        }
      ]
    },
    {
      "cell_type": "code",
      "metadata": {
        "id": "z10YdZYpuD6v",
        "colab_type": "code",
        "colab": {
          "base_uri": "https://localhost:8080/",
          "height": 35
        },
        "outputId": "aef1f42e-00b9-4980-f3c2-71e39dffdef2"
      },
      "source": [
        "np2[0,:]"
      ],
      "execution_count": 15,
      "outputs": [
        {
          "output_type": "execute_result",
          "data": {
            "text/plain": [
              "array([1, 2])"
            ]
          },
          "metadata": {
            "tags": []
          },
          "execution_count": 15
        }
      ]
    },
    {
      "cell_type": "markdown",
      "metadata": {
        "id": "909McL6iusCw",
        "colab_type": "text"
      },
      "source": [
        "##HW6 สร้าง distance matrix (Euclidean) ของ np2\n",
        "โดยสร้าง function สำหรับคำนวณ Euclidean Distance\n",
        "\n",
        "def Euclidean(data1,data2):\n",
        "  #process\n",
        "\n",
        "  return dist\n",
        "\n"
      ]
    },
    {
      "cell_type": "code",
      "metadata": {
        "id": "Jby7W6yh8tCh",
        "colab_type": "code",
        "colab": {}
      },
      "source": [
        "def Euclidean(data1,data2):\n",
        "    distX = pow((data1[0]-data2[0]),2)\n",
        "    distY = pow((data1[1]-data2[1]),2)\n",
        "    return math.sqrt(distX+distY)"
      ],
      "execution_count": 16,
      "outputs": []
    },
    {
      "cell_type": "code",
      "metadata": {
        "id": "TetFhB8t8wxE",
        "colab_type": "code",
        "colab": {
          "base_uri": "https://localhost:8080/",
          "height": 87
        },
        "outputId": "7772c7dd-4df0-4690-b661-691f332b0c4a"
      },
      "source": [
        "dist_math1 = np.zeros((4,4))\n",
        "dist_math1"
      ],
      "execution_count": 17,
      "outputs": [
        {
          "output_type": "execute_result",
          "data": {
            "text/plain": [
              "array([[0., 0., 0., 0.],\n",
              "       [0., 0., 0., 0.],\n",
              "       [0., 0., 0., 0.],\n",
              "       [0., 0., 0., 0.]])"
            ]
          },
          "metadata": {
            "tags": []
          },
          "execution_count": 17
        }
      ]
    },
    {
      "cell_type": "code",
      "metadata": {
        "id": "vxEvGpDV9FgX",
        "colab_type": "code",
        "colab": {
          "base_uri": "https://localhost:8080/",
          "height": 87
        },
        "outputId": "74b3fe2a-7c27-4469-8482-92b6d762bb21"
      },
      "source": [
        "for i in range(4):\n",
        "    for j in range(4):\n",
        "        dist_math1[i,j] = Euclidean(np2[i,:],np2[j,:])\n",
        "dist_math1"
      ],
      "execution_count": 24,
      "outputs": [
        {
          "output_type": "execute_result",
          "data": {
            "text/plain": [
              "array([[0.        , 3.60555128, 2.23606798, 4.24264069],\n",
              "       [3.60555128, 0.        , 5.09901951, 1.        ],\n",
              "       [2.23606798, 5.09901951, 0.        , 5.38516481],\n",
              "       [4.24264069, 1.        , 5.38516481, 0.        ]])"
            ]
          },
          "metadata": {
            "tags": []
          },
          "execution_count": 24
        }
      ]
    },
    {
      "cell_type": "code",
      "metadata": {
        "id": "QUlbRvCR9F3H",
        "colab_type": "code",
        "colab": {}
      },
      "source": [
        "import math"
      ],
      "execution_count": 19,
      "outputs": []
    },
    {
      "cell_type": "code",
      "metadata": {
        "id": "-eA770GkuZg3",
        "colab_type": "code",
        "colab": {}
      },
      "source": [
        "def Manhattan(data1,data2):\n",
        "  distX = data1[0]-data2[0]\n",
        "  return distX"
      ],
      "execution_count": 20,
      "outputs": []
    },
    {
      "cell_type": "code",
      "metadata": {
        "id": "iOBeGcGgwbVu",
        "colab_type": "code",
        "colab": {
          "base_uri": "https://localhost:8080/",
          "height": 35
        },
        "outputId": "f2987835-08d1-4fd0-e73b-a8acfa4db85d"
      },
      "source": [
        "Manhattan(np2[0,:],np2[1,:])"
      ],
      "execution_count": 21,
      "outputs": [
        {
          "output_type": "execute_result",
          "data": {
            "text/plain": [
              "-2"
            ]
          },
          "metadata": {
            "tags": []
          },
          "execution_count": 21
        }
      ]
    },
    {
      "cell_type": "code",
      "metadata": {
        "id": "XwJYB8iJxcwm",
        "colab_type": "code",
        "colab": {}
      },
      "source": [
        "import math"
      ],
      "execution_count": 22,
      "outputs": []
    },
    {
      "cell_type": "code",
      "metadata": {
        "id": "RRdMVPIrwpvj",
        "colab_type": "code",
        "colab": {}
      },
      "source": [
        "def Manhattan(data1,data2):\n",
        "  distX = abs(data1[0]-data2[0])\n",
        "  return distX"
      ],
      "execution_count": 23,
      "outputs": []
    },
    {
      "cell_type": "code",
      "metadata": {
        "id": "jv213uo5xZII",
        "colab_type": "code",
        "colab": {
          "base_uri": "https://localhost:8080/",
          "height": 35
        },
        "outputId": "002d33e7-2648-45b5-98c9-778df98c11b3"
      },
      "source": [
        "Manhattan(np2[0,:],np2[1,:])"
      ],
      "execution_count": 25,
      "outputs": [
        {
          "output_type": "execute_result",
          "data": {
            "text/plain": [
              "2"
            ]
          },
          "metadata": {
            "tags": []
          },
          "execution_count": 25
        }
      ]
    },
    {
      "cell_type": "code",
      "metadata": {
        "id": "jCOctd4-xa13",
        "colab_type": "code",
        "colab": {}
      },
      "source": [
        "def Manhattan(data1,data2):\n",
        "  distX = abs(data1[0]-data2[0])\n",
        "  distY = abs(data1[1]-data2[1])\n",
        "  return distX+distY"
      ],
      "execution_count": 26,
      "outputs": []
    },
    {
      "cell_type": "code",
      "metadata": {
        "id": "giGz7KQIxuFq",
        "colab_type": "code",
        "colab": {
          "base_uri": "https://localhost:8080/",
          "height": 35
        },
        "outputId": "6e587771-0545-4699-c646-b288a1adf305"
      },
      "source": [
        "Manhattan(np2[0,:],np2[1,:])"
      ],
      "execution_count": 27,
      "outputs": [
        {
          "output_type": "execute_result",
          "data": {
            "text/plain": [
              "5"
            ]
          },
          "metadata": {
            "tags": []
          },
          "execution_count": 27
        }
      ]
    },
    {
      "cell_type": "code",
      "metadata": {
        "id": "aaDB7SnOycwr",
        "colab_type": "code",
        "colab": {
          "base_uri": "https://localhost:8080/",
          "height": 87
        },
        "outputId": "bddd4427-f4ae-4de6-f758-001abd5af15d"
      },
      "source": [
        "#ตัวอย่าง\n",
        "np.ones((4,4))"
      ],
      "execution_count": 28,
      "outputs": [
        {
          "output_type": "execute_result",
          "data": {
            "text/plain": [
              "array([[1., 1., 1., 1.],\n",
              "       [1., 1., 1., 1.],\n",
              "       [1., 1., 1., 1.],\n",
              "       [1., 1., 1., 1.]])"
            ]
          },
          "metadata": {
            "tags": []
          },
          "execution_count": 28
        }
      ]
    },
    {
      "cell_type": "code",
      "metadata": {
        "id": "raoL0vRLyqVA",
        "colab_type": "code",
        "colab": {
          "base_uri": "https://localhost:8080/",
          "height": 87
        },
        "outputId": "1f648304-44f4-4f24-ad1e-fae41c5884d1"
      },
      "source": [
        "#ตัวอย่าง\n",
        "5*np.ones((4,4))"
      ],
      "execution_count": 29,
      "outputs": [
        {
          "output_type": "execute_result",
          "data": {
            "text/plain": [
              "array([[5., 5., 5., 5.],\n",
              "       [5., 5., 5., 5.],\n",
              "       [5., 5., 5., 5.],\n",
              "       [5., 5., 5., 5.]])"
            ]
          },
          "metadata": {
            "tags": []
          },
          "execution_count": 29
        }
      ]
    },
    {
      "cell_type": "code",
      "metadata": {
        "id": "-Wur3T5VxwQ2",
        "colab_type": "code",
        "colab": {
          "base_uri": "https://localhost:8080/",
          "height": 87
        },
        "outputId": "345c6033-73c4-47f6-bfed-2e5dba37622f"
      },
      "source": [
        "#ข้อสอบ\n",
        "dist_mat = np.zeros((4,4))\n",
        "dist_mat"
      ],
      "execution_count": 30,
      "outputs": [
        {
          "output_type": "execute_result",
          "data": {
            "text/plain": [
              "array([[0., 0., 0., 0.],\n",
              "       [0., 0., 0., 0.],\n",
              "       [0., 0., 0., 0.],\n",
              "       [0., 0., 0., 0.]])"
            ]
          },
          "metadata": {
            "tags": []
          },
          "execution_count": 30
        }
      ]
    },
    {
      "cell_type": "code",
      "metadata": {
        "id": "Q3fxG-a0yvmb",
        "colab_type": "code",
        "colab": {
          "base_uri": "https://localhost:8080/",
          "height": 87
        },
        "outputId": "ed64733b-e783-4ad1-f77b-40ace225046f"
      },
      "source": [
        "for i in range(4):\n",
        "  for j in range(4):\n",
        "    dist_mat[i,j] = Manhattan(np2[i,:],np2[j,:])\n",
        "\n",
        "dist_mat"
      ],
      "execution_count": 31,
      "outputs": [
        {
          "output_type": "execute_result",
          "data": {
            "text/plain": [
              "array([[0., 5., 3., 6.],\n",
              "       [5., 0., 6., 1.],\n",
              "       [3., 6., 0., 7.],\n",
              "       [6., 1., 7., 0.]])"
            ]
          },
          "metadata": {
            "tags": []
          },
          "execution_count": 31
        }
      ]
    },
    {
      "cell_type": "code",
      "metadata": {
        "id": "btnT-MK7zr91",
        "colab_type": "code",
        "colab": {
          "base_uri": "https://localhost:8080/",
          "height": 35
        },
        "outputId": "999f9949-98de-404f-a190-8a8659cab383"
      },
      "source": [
        "np2.shape"
      ],
      "execution_count": 32,
      "outputs": [
        {
          "output_type": "execute_result",
          "data": {
            "text/plain": [
              "(4, 2)"
            ]
          },
          "metadata": {
            "tags": []
          },
          "execution_count": 32
        }
      ]
    },
    {
      "cell_type": "markdown",
      "metadata": {
        "id": "983AyristuBe",
        "colab_type": "text"
      },
      "source": [
        "#Distance of nominal or categorical features"
      ]
    },
    {
      "cell_type": "markdown",
      "metadata": {
        "id": "QqVE2Zu8t7Ga",
        "colab_type": "text"
      },
      "source": [
        "######(extra) Python data structure (Dictionary)"
      ]
    },
    {
      "cell_type": "code",
      "metadata": {
        "id": "gqBXS3mC0QBP",
        "colab_type": "code",
        "colab": {}
      },
      "source": [
        "d_A = {'a':1,2:3,3:5,'cat':6}"
      ],
      "execution_count": 33,
      "outputs": []
    },
    {
      "cell_type": "code",
      "metadata": {
        "id": "lPbhaVSWuY7I",
        "colab_type": "code",
        "colab": {
          "base_uri": "https://localhost:8080/",
          "height": 35
        },
        "outputId": "a3f6d98a-e516-488d-9947-6120fbf45060"
      },
      "source": [
        "d_A"
      ],
      "execution_count": 34,
      "outputs": [
        {
          "output_type": "execute_result",
          "data": {
            "text/plain": [
              "{2: 3, 3: 5, 'a': 1, 'cat': 6}"
            ]
          },
          "metadata": {
            "tags": []
          },
          "execution_count": 34
        }
      ]
    },
    {
      "cell_type": "code",
      "metadata": {
        "id": "i5_QrdMYufDc",
        "colab_type": "code",
        "colab": {
          "base_uri": "https://localhost:8080/",
          "height": 35
        },
        "outputId": "6ad953a4-da81-4122-8673-99d1385b018a"
      },
      "source": [
        "d_A['cat']"
      ],
      "execution_count": 35,
      "outputs": [
        {
          "output_type": "execute_result",
          "data": {
            "text/plain": [
              "6"
            ]
          },
          "metadata": {
            "tags": []
          },
          "execution_count": 35
        }
      ]
    },
    {
      "cell_type": "code",
      "metadata": {
        "id": "rmL8ldWQui0t",
        "colab_type": "code",
        "colab": {}
      },
      "source": [
        "d_A['dog'] = [1,2,3,4,5]"
      ],
      "execution_count": 36,
      "outputs": []
    },
    {
      "cell_type": "code",
      "metadata": {
        "id": "S3JA74R0u55W",
        "colab_type": "code",
        "colab": {
          "base_uri": "https://localhost:8080/",
          "height": 35
        },
        "outputId": "fc96c528-a91f-460c-9949-179ac062b2bf"
      },
      "source": [
        "d_A"
      ],
      "execution_count": 37,
      "outputs": [
        {
          "output_type": "execute_result",
          "data": {
            "text/plain": [
              "{2: 3, 3: 5, 'a': 1, 'cat': 6, 'dog': [1, 2, 3, 4, 5]}"
            ]
          },
          "metadata": {
            "tags": []
          },
          "execution_count": 37
        }
      ]
    },
    {
      "cell_type": "code",
      "metadata": {
        "id": "46J0MI4Lu72l",
        "colab_type": "code",
        "colab": {}
      },
      "source": [
        "del d_A[2]"
      ],
      "execution_count": 38,
      "outputs": []
    },
    {
      "cell_type": "code",
      "metadata": {
        "id": "MBaoP3N4v5Dv",
        "colab_type": "code",
        "colab": {
          "base_uri": "https://localhost:8080/",
          "height": 35
        },
        "outputId": "da2475f1-1ab1-4558-810b-df9f83787da2"
      },
      "source": [
        "d_A"
      ],
      "execution_count": 39,
      "outputs": [
        {
          "output_type": "execute_result",
          "data": {
            "text/plain": [
              "{3: 5, 'a': 1, 'cat': 6, 'dog': [1, 2, 3, 4, 5]}"
            ]
          },
          "metadata": {
            "tags": []
          },
          "execution_count": 39
        }
      ]
    },
    {
      "cell_type": "code",
      "metadata": {
        "id": "zDvGM76Bv7Q3",
        "colab_type": "code",
        "colab": {}
      },
      "source": [
        "import pandas as pd"
      ],
      "execution_count": 40,
      "outputs": []
    },
    {
      "cell_type": "code",
      "metadata": {
        "id": "VrLnfFHDwwTO",
        "colab_type": "code",
        "colab": {
          "base_uri": "https://localhost:8080/",
          "height": 35
        },
        "outputId": "e8035041-5039-44a9-cadc-a4d64e86f03c"
      },
      "source": [
        "data_dict = {'color':['red','red','green'],  #color = {'red','green','blue'}\n",
        "             'status':['single','married','single']}  #status = {'single','married','divored'}\n",
        "data_dict"
      ],
      "execution_count": 41,
      "outputs": [
        {
          "output_type": "execute_result",
          "data": {
            "text/plain": [
              "{'color': ['red', 'red', 'green'], 'status': ['single', 'married', 'single']}"
            ]
          },
          "metadata": {
            "tags": []
          },
          "execution_count": 41
        }
      ]
    },
    {
      "cell_type": "code",
      "metadata": {
        "id": "yMR1fh54xZsd",
        "colab_type": "code",
        "colab": {
          "base_uri": "https://localhost:8080/",
          "height": 141
        },
        "outputId": "fca04d0f-8341-42e9-a6ef-8c1d86b51d70"
      },
      "source": [
        "data_pd = pd.DataFrame.from_dict(data_dict)\n",
        "data_pd"
      ],
      "execution_count": 42,
      "outputs": [
        {
          "output_type": "execute_result",
          "data": {
            "text/html": [
              "<div>\n",
              "<style scoped>\n",
              "    .dataframe tbody tr th:only-of-type {\n",
              "        vertical-align: middle;\n",
              "    }\n",
              "\n",
              "    .dataframe tbody tr th {\n",
              "        vertical-align: top;\n",
              "    }\n",
              "\n",
              "    .dataframe thead th {\n",
              "        text-align: right;\n",
              "    }\n",
              "</style>\n",
              "<table border=\"1\" class=\"dataframe\">\n",
              "  <thead>\n",
              "    <tr style=\"text-align: right;\">\n",
              "      <th></th>\n",
              "      <th>color</th>\n",
              "      <th>status</th>\n",
              "    </tr>\n",
              "  </thead>\n",
              "  <tbody>\n",
              "    <tr>\n",
              "      <th>0</th>\n",
              "      <td>red</td>\n",
              "      <td>single</td>\n",
              "    </tr>\n",
              "    <tr>\n",
              "      <th>1</th>\n",
              "      <td>red</td>\n",
              "      <td>married</td>\n",
              "    </tr>\n",
              "    <tr>\n",
              "      <th>2</th>\n",
              "      <td>green</td>\n",
              "      <td>single</td>\n",
              "    </tr>\n",
              "  </tbody>\n",
              "</table>\n",
              "</div>"
            ],
            "text/plain": [
              "   color   status\n",
              "0    red   single\n",
              "1    red  married\n",
              "2  green   single"
            ]
          },
          "metadata": {
            "tags": []
          },
          "execution_count": 42
        }
      ]
    },
    {
      "cell_type": "markdown",
      "metadata": {
        "id": "qRjywuYkyyYc",
        "colab_type": "text"
      },
      "source": [
        "##Categorical feature distance method#1"
      ]
    },
    {
      "cell_type": "markdown",
      "metadata": {
        "id": "4XF6hUTOzNU6",
        "colab_type": "text"
      },
      "source": [
        "#####ตารางบน"
      ]
    },
    {
      "cell_type": "code",
      "metadata": {
        "id": "qiNDNwJ4ySiQ",
        "colab_type": "code",
        "colab": {
          "base_uri": "https://localhost:8080/",
          "height": 35
        },
        "outputId": "4a3275a0-62f7-406c-8008-a9f2532cbf80"
      },
      "source": [
        "list(data_pd.iloc[0,:])"
      ],
      "execution_count": 43,
      "outputs": [
        {
          "output_type": "execute_result",
          "data": {
            "text/plain": [
              "['red', 'single']"
            ]
          },
          "metadata": {
            "tags": []
          },
          "execution_count": 43
        }
      ]
    },
    {
      "cell_type": "code",
      "metadata": {
        "id": "-IEC23LXzK8j",
        "colab_type": "code",
        "colab": {}
      },
      "source": [
        "def meth1_dist(data1,data2):\n",
        "  N = 0\n",
        "  print(f'data1 is {data1} and data2 is {data2}')\n",
        "  for i in range(len(data1)):\n",
        "    print(f'feature1 of data1 is {data1[i]} , feature2 is {data2[i]} ')\n",
        "    if data1[i] != data2[i]:\n",
        "      N = N+1\n",
        "      print(f'  {data1[i]} is not equal {data2[i]} : updated ({N})')\n",
        "    else:\n",
        "      print(f'  {data1[i]} is equal {data2[i]}')\n",
        "  return N/len(data1)"
      ],
      "execution_count": 44,
      "outputs": []
    },
    {
      "cell_type": "code",
      "metadata": {
        "id": "e5Wj5L4D0IZV",
        "colab_type": "code",
        "colab": {
          "base_uri": "https://localhost:8080/",
          "height": 121
        },
        "outputId": "05052a85-3b5f-4657-8bcb-8eaf403e9230"
      },
      "source": [
        "meth1_dist(list(data_pd.iloc[0,:]),list(data_pd.iloc[1,:]))"
      ],
      "execution_count": 45,
      "outputs": [
        {
          "output_type": "stream",
          "text": [
            "data1 is ['red', 'single'] and data2 is ['red', 'married']\n",
            "feature1 of data1 is red , feature2 is red \n",
            "  red is equal red\n",
            "feature1 of data1 is single , feature2 is married \n",
            "  single is not equal married : updated (1)\n"
          ],
          "name": "stdout"
        },
        {
          "output_type": "execute_result",
          "data": {
            "text/plain": [
              "0.5"
            ]
          },
          "metadata": {
            "tags": []
          },
          "execution_count": 45
        }
      ]
    },
    {
      "cell_type": "markdown",
      "metadata": {
        "id": "4PcEK_Kr3xdm",
        "colab_type": "text"
      },
      "source": [
        "#HW7 calculate distance matrix of data_pd using meth1_dist()"
      ]
    },
    {
      "cell_type": "markdown",
      "metadata": {
        "id": "qpPg4vRV4OEm",
        "colab_type": "text"
      },
      "source": [
        "####Categorical feature distance method#2"
      ]
    },
    {
      "cell_type": "code",
      "metadata": {
        "id": "-fdtkQEk06e1",
        "colab_type": "code",
        "colab": {
          "base_uri": "https://localhost:8080/",
          "height": 141
        },
        "outputId": "1fb77732-77c7-4f14-c4da-ea1b05fcc7b0"
      },
      "source": [
        "data_pd_binary = pd.get_dummies(data_pd)\n",
        "data_pd_binary"
      ],
      "execution_count": 46,
      "outputs": [
        {
          "output_type": "execute_result",
          "data": {
            "text/html": [
              "<div>\n",
              "<style scoped>\n",
              "    .dataframe tbody tr th:only-of-type {\n",
              "        vertical-align: middle;\n",
              "    }\n",
              "\n",
              "    .dataframe tbody tr th {\n",
              "        vertical-align: top;\n",
              "    }\n",
              "\n",
              "    .dataframe thead th {\n",
              "        text-align: right;\n",
              "    }\n",
              "</style>\n",
              "<table border=\"1\" class=\"dataframe\">\n",
              "  <thead>\n",
              "    <tr style=\"text-align: right;\">\n",
              "      <th></th>\n",
              "      <th>color_green</th>\n",
              "      <th>color_red</th>\n",
              "      <th>status_married</th>\n",
              "      <th>status_single</th>\n",
              "    </tr>\n",
              "  </thead>\n",
              "  <tbody>\n",
              "    <tr>\n",
              "      <th>0</th>\n",
              "      <td>0</td>\n",
              "      <td>1</td>\n",
              "      <td>0</td>\n",
              "      <td>1</td>\n",
              "    </tr>\n",
              "    <tr>\n",
              "      <th>1</th>\n",
              "      <td>0</td>\n",
              "      <td>1</td>\n",
              "      <td>1</td>\n",
              "      <td>0</td>\n",
              "    </tr>\n",
              "    <tr>\n",
              "      <th>2</th>\n",
              "      <td>1</td>\n",
              "      <td>0</td>\n",
              "      <td>0</td>\n",
              "      <td>1</td>\n",
              "    </tr>\n",
              "  </tbody>\n",
              "</table>\n",
              "</div>"
            ],
            "text/plain": [
              "   color_green  color_red  status_married  status_single\n",
              "0            0          1               0              1\n",
              "1            0          1               1              0\n",
              "2            1          0               0              1"
            ]
          },
          "metadata": {
            "tags": []
          },
          "execution_count": 46
        }
      ]
    },
    {
      "cell_type": "code",
      "metadata": {
        "id": "Ts0AOVPv4IVk",
        "colab_type": "code",
        "colab": {}
      },
      "source": [
        "def binary_sym_dist(data1,data2):\n",
        "  q = 0 \n",
        "  rs = 0\n",
        "  t = 0\n",
        "  for i in range(len(data1)):\n",
        "    if data1[i] == data2[i]:\n",
        "      if data1[i] == 1:\n",
        "       q = q + 1\n",
        "      else:\n",
        "        t = t + 1\n",
        "    if data1[i] != data2[i]:\n",
        "      rs = rs + 1\n",
        "\n",
        "  return (rs)/(q+rs+t)\n"
      ],
      "execution_count": 47,
      "outputs": []
    },
    {
      "cell_type": "code",
      "metadata": {
        "id": "Mx7gtx0w6EiK",
        "colab_type": "code",
        "colab": {
          "base_uri": "https://localhost:8080/",
          "height": 35
        },
        "outputId": "f19efe13-3b6c-4256-f114-d2be5641e772"
      },
      "source": [
        "binary_sym_dist(list(data_pd.iloc[0,:]),list(data_pd.iloc[1,:]))"
      ],
      "execution_count": 48,
      "outputs": [
        {
          "output_type": "execute_result",
          "data": {
            "text/plain": [
              "0.5"
            ]
          },
          "metadata": {
            "tags": []
          },
          "execution_count": 48
        }
      ]
    },
    {
      "cell_type": "code",
      "metadata": {
        "id": "S__3UVUYZp9O",
        "colab_type": "code",
        "colab": {
          "base_uri": "https://localhost:8080/",
          "height": 69
        },
        "outputId": "18999b84-7fce-4668-e48d-68057e3ab255"
      },
      "source": [
        "dist_math2 = np.zeros((3,3))\n",
        "dist_math2"
      ],
      "execution_count": 49,
      "outputs": [
        {
          "output_type": "execute_result",
          "data": {
            "text/plain": [
              "array([[0., 0., 0.],\n",
              "       [0., 0., 0.],\n",
              "       [0., 0., 0.]])"
            ]
          },
          "metadata": {
            "tags": []
          },
          "execution_count": 49
        }
      ]
    },
    {
      "cell_type": "code",
      "metadata": {
        "id": "dNKJfE0pZpvH",
        "colab_type": "code",
        "colab": {
          "base_uri": "https://localhost:8080/",
          "height": 849
        },
        "outputId": "b9d49957-b1a4-4f91-a6ab-f54a419cfa1d"
      },
      "source": [
        "for i in range(3):\n",
        "    for j in range(3):\n",
        "        dist_math2[i,j] = meth1_dist(list(data_pd.iloc[i,:]),list(data_pd.iloc[j,:]))\n",
        "dist_math2\n"
      ],
      "execution_count": 50,
      "outputs": [
        {
          "output_type": "stream",
          "text": [
            "data1 is ['red', 'single'] and data2 is ['red', 'single']\n",
            "feature1 of data1 is red , feature2 is red \n",
            "  red is equal red\n",
            "feature1 of data1 is single , feature2 is single \n",
            "  single is equal single\n",
            "data1 is ['red', 'single'] and data2 is ['red', 'married']\n",
            "feature1 of data1 is red , feature2 is red \n",
            "  red is equal red\n",
            "feature1 of data1 is single , feature2 is married \n",
            "  single is not equal married : updated (1)\n",
            "data1 is ['red', 'single'] and data2 is ['green', 'single']\n",
            "feature1 of data1 is red , feature2 is green \n",
            "  red is not equal green : updated (1)\n",
            "feature1 of data1 is single , feature2 is single \n",
            "  single is equal single\n",
            "data1 is ['red', 'married'] and data2 is ['red', 'single']\n",
            "feature1 of data1 is red , feature2 is red \n",
            "  red is equal red\n",
            "feature1 of data1 is married , feature2 is single \n",
            "  married is not equal single : updated (1)\n",
            "data1 is ['red', 'married'] and data2 is ['red', 'married']\n",
            "feature1 of data1 is red , feature2 is red \n",
            "  red is equal red\n",
            "feature1 of data1 is married , feature2 is married \n",
            "  married is equal married\n",
            "data1 is ['red', 'married'] and data2 is ['green', 'single']\n",
            "feature1 of data1 is red , feature2 is green \n",
            "  red is not equal green : updated (1)\n",
            "feature1 of data1 is married , feature2 is single \n",
            "  married is not equal single : updated (2)\n",
            "data1 is ['green', 'single'] and data2 is ['red', 'single']\n",
            "feature1 of data1 is green , feature2 is red \n",
            "  green is not equal red : updated (1)\n",
            "feature1 of data1 is single , feature2 is single \n",
            "  single is equal single\n",
            "data1 is ['green', 'single'] and data2 is ['red', 'married']\n",
            "feature1 of data1 is green , feature2 is red \n",
            "  green is not equal red : updated (1)\n",
            "feature1 of data1 is single , feature2 is married \n",
            "  single is not equal married : updated (2)\n",
            "data1 is ['green', 'single'] and data2 is ['green', 'single']\n",
            "feature1 of data1 is green , feature2 is green \n",
            "  green is equal green\n",
            "feature1 of data1 is single , feature2 is single \n",
            "  single is equal single\n"
          ],
          "name": "stdout"
        },
        {
          "output_type": "execute_result",
          "data": {
            "text/plain": [
              "array([[0. , 0.5, 0.5],\n",
              "       [0.5, 0. , 1. ],\n",
              "       [0.5, 1. , 0. ]])"
            ]
          },
          "metadata": {
            "tags": []
          },
          "execution_count": 50
        }
      ]
    },
    {
      "cell_type": "code",
      "metadata": {
        "id": "686xxrh5aTCM",
        "colab_type": "code",
        "colab": {}
      },
      "source": [
        ""
      ],
      "execution_count": null,
      "outputs": []
    },
    {
      "cell_type": "markdown",
      "metadata": {
        "id": "nKfs1s8291JB",
        "colab_type": "text"
      },
      "source": [
        "####HW8 calculate distance matrix of data_pd_binary using binary_sym_dist()"
      ]
    },
    {
      "cell_type": "code",
      "metadata": {
        "id": "B_xWMsAE7Akr",
        "colab_type": "code",
        "colab": {
          "base_uri": "https://localhost:8080/",
          "height": 849
        },
        "outputId": "c9711d76-2086-4388-ca86-a2d10217c6cc"
      },
      "source": [
        "for i in range(3):\n",
        "    for j in range(3):\n",
        "        dist_math2[i,j] = meth1_dist(list(data_pd.iloc[i,:]),list(data_pd.iloc[j,:]))\n",
        "dist_math2"
      ],
      "execution_count": 51,
      "outputs": [
        {
          "output_type": "stream",
          "text": [
            "data1 is ['red', 'single'] and data2 is ['red', 'single']\n",
            "feature1 of data1 is red , feature2 is red \n",
            "  red is equal red\n",
            "feature1 of data1 is single , feature2 is single \n",
            "  single is equal single\n",
            "data1 is ['red', 'single'] and data2 is ['red', 'married']\n",
            "feature1 of data1 is red , feature2 is red \n",
            "  red is equal red\n",
            "feature1 of data1 is single , feature2 is married \n",
            "  single is not equal married : updated (1)\n",
            "data1 is ['red', 'single'] and data2 is ['green', 'single']\n",
            "feature1 of data1 is red , feature2 is green \n",
            "  red is not equal green : updated (1)\n",
            "feature1 of data1 is single , feature2 is single \n",
            "  single is equal single\n",
            "data1 is ['red', 'married'] and data2 is ['red', 'single']\n",
            "feature1 of data1 is red , feature2 is red \n",
            "  red is equal red\n",
            "feature1 of data1 is married , feature2 is single \n",
            "  married is not equal single : updated (1)\n",
            "data1 is ['red', 'married'] and data2 is ['red', 'married']\n",
            "feature1 of data1 is red , feature2 is red \n",
            "  red is equal red\n",
            "feature1 of data1 is married , feature2 is married \n",
            "  married is equal married\n",
            "data1 is ['red', 'married'] and data2 is ['green', 'single']\n",
            "feature1 of data1 is red , feature2 is green \n",
            "  red is not equal green : updated (1)\n",
            "feature1 of data1 is married , feature2 is single \n",
            "  married is not equal single : updated (2)\n",
            "data1 is ['green', 'single'] and data2 is ['red', 'single']\n",
            "feature1 of data1 is green , feature2 is red \n",
            "  green is not equal red : updated (1)\n",
            "feature1 of data1 is single , feature2 is single \n",
            "  single is equal single\n",
            "data1 is ['green', 'single'] and data2 is ['red', 'married']\n",
            "feature1 of data1 is green , feature2 is red \n",
            "  green is not equal red : updated (1)\n",
            "feature1 of data1 is single , feature2 is married \n",
            "  single is not equal married : updated (2)\n",
            "data1 is ['green', 'single'] and data2 is ['green', 'single']\n",
            "feature1 of data1 is green , feature2 is green \n",
            "  green is equal green\n",
            "feature1 of data1 is single , feature2 is single \n",
            "  single is equal single\n"
          ],
          "name": "stdout"
        },
        {
          "output_type": "execute_result",
          "data": {
            "text/plain": [
              "array([[0. , 0.5, 0.5],\n",
              "       [0.5, 0. , 1. ],\n",
              "       [0.5, 1. , 0. ]])"
            ]
          },
          "metadata": {
            "tags": []
          },
          "execution_count": 51
        }
      ]
    },
    {
      "cell_type": "code",
      "metadata": {
        "id": "pTG-QwOSac4M",
        "colab_type": "code",
        "colab": {
          "base_uri": "https://localhost:8080/",
          "height": 69
        },
        "outputId": "4807b471-19be-40cd-98a2-37ed1c026bf1"
      },
      "source": [
        "binary_sym_dist1 = np.zeros((3,3))\n",
        "binary_sym_dist1\n",
        "for i in range(3):\n",
        "    for j in range(3):\n",
        "        binary_sym_dist1[i,j] = binary_sym_dist(list(data_pd_binary.iloc[i,:]),list(data_pd_binary.iloc[j,:]))\n",
        "binary_sym_dist1"
      ],
      "execution_count": 52,
      "outputs": [
        {
          "output_type": "execute_result",
          "data": {
            "text/plain": [
              "array([[0. , 0.5, 0.5],\n",
              "       [0.5, 0. , 1. ],\n",
              "       [0.5, 1. , 0. ]])"
            ]
          },
          "metadata": {
            "tags": []
          },
          "execution_count": 52
        }
      ]
    },
    {
      "cell_type": "code",
      "metadata": {
        "id": "Y_1XoRcGagIv",
        "colab_type": "code",
        "colab": {}
      },
      "source": [
        ""
      ],
      "execution_count": null,
      "outputs": []
    }
  ]
}
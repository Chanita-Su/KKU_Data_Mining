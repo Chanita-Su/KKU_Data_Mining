{
  "nbformat": 4,
  "nbformat_minor": 0,
  "metadata": {
    "colab": {
      "name": "JOB.ipynb",
      "provenance": [],
      "authorship_tag": "ABX9TyMG7zLf01MZR84HBn4Iy+fl",
      "include_colab_link": true
    },
    "kernelspec": {
      "name": "python3",
      "display_name": "Python 3"
    }
  },
  "cells": [
    {
      "cell_type": "markdown",
      "metadata": {
        "id": "view-in-github",
        "colab_type": "text"
      },
      "source": [
        "<a href=\"https://colab.research.google.com/github/Chanita-Su/KKU_Data_Mining/blob/master/JOB.ipynb\" target=\"_parent\"><img src=\"https://colab.research.google.com/assets/colab-badge.svg\" alt=\"Open In Colab\"/></a>"
      ]
    },
    {
      "cell_type": "code",
      "metadata": {
        "id": "EqThVBRsTcQh"
      },
      "source": [
        "import pandas as pd"
      ],
      "execution_count": null,
      "outputs": []
    },
    {
      "cell_type": "code",
      "metadata": {
        "id": "QSWIefciT8zv",
        "colab": {
          "base_uri": "https://localhost:8080/"
        },
        "outputId": "4e8470fc-caba-4f19-a7c0-0742e9f7c9e9"
      },
      "source": [
        "from google.colab import drive\n",
        "drive.mount('/content/drive')"
      ],
      "execution_count": null,
      "outputs": [
        {
          "output_type": "stream",
          "text": [
            "Drive already mounted at /content/drive; to attempt to forcibly remount, call drive.mount(\"/content/drive\", force_remount=True).\n"
          ],
          "name": "stdout"
        }
      ]
    },
    {
      "cell_type": "code",
      "metadata": {
        "id": "jaO3AKHtUCXE"
      },
      "source": [
        "path = '/content/drive/My Drive/DWDM_material'"
      ],
      "execution_count": null,
      "outputs": []
    },
    {
      "cell_type": "code",
      "metadata": {
        "id": "q-j-F-gfUJmm"
      },
      "source": [
        "import os"
      ],
      "execution_count": null,
      "outputs": []
    },
    {
      "cell_type": "code",
      "metadata": {
        "id": "oFUUr15tULMF"
      },
      "source": [
        "JC = os.path.join(path,'job_clicks.csv')"
      ],
      "execution_count": null,
      "outputs": []
    },
    {
      "cell_type": "code",
      "metadata": {
        "id": "R9aRzb8zUWp8"
      },
      "source": [
        "JC_table = pd.read_csv(JC)"
      ],
      "execution_count": null,
      "outputs": []
    },
    {
      "cell_type": "code",
      "metadata": {
        "id": "RmDk_5_HUjnr",
        "colab": {
          "base_uri": "https://localhost:8080/",
          "height": 407
        },
        "outputId": "f1e9bf87-9926-47a3-cdca-edde3ba10069"
      },
      "source": [
        "JC_table"
      ],
      "execution_count": null,
      "outputs": [
        {
          "output_type": "execute_result",
          "data": {
            "text/html": [
              "<div>\n",
              "<style scoped>\n",
              "    .dataframe tbody tr th:only-of-type {\n",
              "        vertical-align: middle;\n",
              "    }\n",
              "\n",
              "    .dataframe tbody tr th {\n",
              "        vertical-align: top;\n",
              "    }\n",
              "\n",
              "    .dataframe thead th {\n",
              "        text-align: right;\n",
              "    }\n",
              "</style>\n",
              "<table border=\"1\" class=\"dataframe\">\n",
              "  <thead>\n",
              "    <tr style=\"text-align: right;\">\n",
              "      <th></th>\n",
              "      <th>userId</th>\n",
              "      <th>jobID</th>\n",
              "      <th>Clicks</th>\n",
              "    </tr>\n",
              "  </thead>\n",
              "  <tbody>\n",
              "    <tr>\n",
              "      <th>0</th>\n",
              "      <td>1</td>\n",
              "      <td>31</td>\n",
              "      <td>3</td>\n",
              "    </tr>\n",
              "    <tr>\n",
              "      <th>1</th>\n",
              "      <td>1</td>\n",
              "      <td>1029</td>\n",
              "      <td>66</td>\n",
              "    </tr>\n",
              "    <tr>\n",
              "      <th>2</th>\n",
              "      <td>1</td>\n",
              "      <td>1061</td>\n",
              "      <td>93</td>\n",
              "    </tr>\n",
              "    <tr>\n",
              "      <th>3</th>\n",
              "      <td>1</td>\n",
              "      <td>1129</td>\n",
              "      <td>0</td>\n",
              "    </tr>\n",
              "    <tr>\n",
              "      <th>4</th>\n",
              "      <td>1</td>\n",
              "      <td>1172</td>\n",
              "      <td>77</td>\n",
              "    </tr>\n",
              "    <tr>\n",
              "      <th>...</th>\n",
              "      <td>...</td>\n",
              "      <td>...</td>\n",
              "      <td>...</td>\n",
              "    </tr>\n",
              "    <tr>\n",
              "      <th>99999</th>\n",
              "      <td>671</td>\n",
              "      <td>6268</td>\n",
              "      <td>33</td>\n",
              "    </tr>\n",
              "    <tr>\n",
              "      <th>100000</th>\n",
              "      <td>671</td>\n",
              "      <td>6269</td>\n",
              "      <td>73</td>\n",
              "    </tr>\n",
              "    <tr>\n",
              "      <th>100001</th>\n",
              "      <td>671</td>\n",
              "      <td>6365</td>\n",
              "      <td>71</td>\n",
              "    </tr>\n",
              "    <tr>\n",
              "      <th>100002</th>\n",
              "      <td>671</td>\n",
              "      <td>6385</td>\n",
              "      <td>9</td>\n",
              "    </tr>\n",
              "    <tr>\n",
              "      <th>100003</th>\n",
              "      <td>671</td>\n",
              "      <td>6565</td>\n",
              "      <td>25</td>\n",
              "    </tr>\n",
              "  </tbody>\n",
              "</table>\n",
              "<p>100004 rows × 3 columns</p>\n",
              "</div>"
            ],
            "text/plain": [
              "        userId  jobID  Clicks\n",
              "0            1     31       3\n",
              "1            1   1029      66\n",
              "2            1   1061      93\n",
              "3            1   1129       0\n",
              "4            1   1172      77\n",
              "...        ...    ...     ...\n",
              "99999      671   6268      33\n",
              "100000     671   6269      73\n",
              "100001     671   6365      71\n",
              "100002     671   6385       9\n",
              "100003     671   6565      25\n",
              "\n",
              "[100004 rows x 3 columns]"
            ]
          },
          "metadata": {
            "tags": []
          },
          "execution_count": 21
        }
      ]
    },
    {
      "cell_type": "code",
      "metadata": {
        "id": "tP_UNdCdUlcv"
      },
      "source": [
        "J = os.path.join(path,'jobs.csv')"
      ],
      "execution_count": null,
      "outputs": []
    },
    {
      "cell_type": "code",
      "metadata": {
        "id": "70h_SCbBU3j3",
        "colab": {
          "base_uri": "https://localhost:8080/",
          "height": 407
        },
        "outputId": "22ed766e-5ac8-4fd4-8f45-2c16b37c4806"
      },
      "source": [
        "J_table = pd.read_csv(J)\n",
        "J_table"
      ],
      "execution_count": null,
      "outputs": [
        {
          "output_type": "execute_result",
          "data": {
            "text/html": [
              "<div>\n",
              "<style scoped>\n",
              "    .dataframe tbody tr th:only-of-type {\n",
              "        vertical-align: middle;\n",
              "    }\n",
              "\n",
              "    .dataframe tbody tr th {\n",
              "        vertical-align: top;\n",
              "    }\n",
              "\n",
              "    .dataframe thead th {\n",
              "        text-align: right;\n",
              "    }\n",
              "</style>\n",
              "<table border=\"1\" class=\"dataframe\">\n",
              "  <thead>\n",
              "    <tr style=\"text-align: right;\">\n",
              "      <th></th>\n",
              "      <th>jobID</th>\n",
              "      <th>job_category</th>\n",
              "    </tr>\n",
              "  </thead>\n",
              "  <tbody>\n",
              "    <tr>\n",
              "      <th>0</th>\n",
              "      <td>1</td>\n",
              "      <td>IT</td>\n",
              "    </tr>\n",
              "    <tr>\n",
              "      <th>1</th>\n",
              "      <td>2</td>\n",
              "      <td>IT</td>\n",
              "    </tr>\n",
              "    <tr>\n",
              "      <th>2</th>\n",
              "      <td>3</td>\n",
              "      <td>IT</td>\n",
              "    </tr>\n",
              "    <tr>\n",
              "      <th>3</th>\n",
              "      <td>4</td>\n",
              "      <td>IT</td>\n",
              "    </tr>\n",
              "    <tr>\n",
              "      <th>4</th>\n",
              "      <td>5</td>\n",
              "      <td>IT</td>\n",
              "    </tr>\n",
              "    <tr>\n",
              "      <th>...</th>\n",
              "      <td>...</td>\n",
              "      <td>...</td>\n",
              "    </tr>\n",
              "    <tr>\n",
              "      <th>9120</th>\n",
              "      <td>162672</td>\n",
              "      <td>Marketing</td>\n",
              "    </tr>\n",
              "    <tr>\n",
              "      <th>9121</th>\n",
              "      <td>163056</td>\n",
              "      <td>Marketing</td>\n",
              "    </tr>\n",
              "    <tr>\n",
              "      <th>9122</th>\n",
              "      <td>163949</td>\n",
              "      <td>Marketing</td>\n",
              "    </tr>\n",
              "    <tr>\n",
              "      <th>9123</th>\n",
              "      <td>164977</td>\n",
              "      <td>Marketing</td>\n",
              "    </tr>\n",
              "    <tr>\n",
              "      <th>9124</th>\n",
              "      <td>164979</td>\n",
              "      <td>Marketing</td>\n",
              "    </tr>\n",
              "  </tbody>\n",
              "</table>\n",
              "<p>9125 rows × 2 columns</p>\n",
              "</div>"
            ],
            "text/plain": [
              "       jobID job_category\n",
              "0          1           IT\n",
              "1          2           IT\n",
              "2          3           IT\n",
              "3          4           IT\n",
              "4          5           IT\n",
              "...      ...          ...\n",
              "9120  162672    Marketing\n",
              "9121  163056    Marketing\n",
              "9122  163949    Marketing\n",
              "9123  164977    Marketing\n",
              "9124  164979    Marketing\n",
              "\n",
              "[9125 rows x 2 columns]"
            ]
          },
          "metadata": {
            "tags": []
          },
          "execution_count": 23
        }
      ]
    },
    {
      "cell_type": "code",
      "metadata": {
        "id": "WVTNQc3fVGpX",
        "colab": {
          "base_uri": "https://localhost:8080/",
          "height": 407
        },
        "outputId": "9b149d97-3230-47fa-cbcb-214867b63f7e"
      },
      "source": [
        "jj = pd.merge(JC_table,J_table,on='jobID')\n",
        "jj"
      ],
      "execution_count": null,
      "outputs": [
        {
          "output_type": "execute_result",
          "data": {
            "text/html": [
              "<div>\n",
              "<style scoped>\n",
              "    .dataframe tbody tr th:only-of-type {\n",
              "        vertical-align: middle;\n",
              "    }\n",
              "\n",
              "    .dataframe tbody tr th {\n",
              "        vertical-align: top;\n",
              "    }\n",
              "\n",
              "    .dataframe thead th {\n",
              "        text-align: right;\n",
              "    }\n",
              "</style>\n",
              "<table border=\"1\" class=\"dataframe\">\n",
              "  <thead>\n",
              "    <tr style=\"text-align: right;\">\n",
              "      <th></th>\n",
              "      <th>userId</th>\n",
              "      <th>jobID</th>\n",
              "      <th>Clicks</th>\n",
              "      <th>job_category</th>\n",
              "    </tr>\n",
              "  </thead>\n",
              "  <tbody>\n",
              "    <tr>\n",
              "      <th>0</th>\n",
              "      <td>1</td>\n",
              "      <td>31</td>\n",
              "      <td>3</td>\n",
              "      <td>Finance</td>\n",
              "    </tr>\n",
              "    <tr>\n",
              "      <th>1</th>\n",
              "      <td>7</td>\n",
              "      <td>31</td>\n",
              "      <td>71</td>\n",
              "      <td>Finance</td>\n",
              "    </tr>\n",
              "    <tr>\n",
              "      <th>2</th>\n",
              "      <td>31</td>\n",
              "      <td>31</td>\n",
              "      <td>39</td>\n",
              "      <td>Finance</td>\n",
              "    </tr>\n",
              "    <tr>\n",
              "      <th>3</th>\n",
              "      <td>32</td>\n",
              "      <td>31</td>\n",
              "      <td>4</td>\n",
              "      <td>Finance</td>\n",
              "    </tr>\n",
              "    <tr>\n",
              "      <th>4</th>\n",
              "      <td>36</td>\n",
              "      <td>31</td>\n",
              "      <td>2</td>\n",
              "      <td>Finance</td>\n",
              "    </tr>\n",
              "    <tr>\n",
              "      <th>...</th>\n",
              "      <td>...</td>\n",
              "      <td>...</td>\n",
              "      <td>...</td>\n",
              "      <td>...</td>\n",
              "    </tr>\n",
              "    <tr>\n",
              "      <th>99999</th>\n",
              "      <td>664</td>\n",
              "      <td>64997</td>\n",
              "      <td>16</td>\n",
              "      <td>Banking</td>\n",
              "    </tr>\n",
              "    <tr>\n",
              "      <th>100000</th>\n",
              "      <td>664</td>\n",
              "      <td>72380</td>\n",
              "      <td>7</td>\n",
              "      <td>Banking</td>\n",
              "    </tr>\n",
              "    <tr>\n",
              "      <th>100001</th>\n",
              "      <td>665</td>\n",
              "      <td>129</td>\n",
              "      <td>2</td>\n",
              "      <td>IT</td>\n",
              "    </tr>\n",
              "    <tr>\n",
              "      <th>100002</th>\n",
              "      <td>665</td>\n",
              "      <td>4736</td>\n",
              "      <td>18</td>\n",
              "      <td>Finance</td>\n",
              "    </tr>\n",
              "    <tr>\n",
              "      <th>100003</th>\n",
              "      <td>668</td>\n",
              "      <td>6425</td>\n",
              "      <td>3</td>\n",
              "      <td>Banking</td>\n",
              "    </tr>\n",
              "  </tbody>\n",
              "</table>\n",
              "<p>100004 rows × 4 columns</p>\n",
              "</div>"
            ],
            "text/plain": [
              "        userId  jobID  Clicks job_category\n",
              "0            1     31       3      Finance\n",
              "1            7     31      71      Finance\n",
              "2           31     31      39      Finance\n",
              "3           32     31       4      Finance\n",
              "4           36     31       2      Finance\n",
              "...        ...    ...     ...          ...\n",
              "99999      664  64997      16      Banking\n",
              "100000     664  72380       7      Banking\n",
              "100001     665    129       2           IT\n",
              "100002     665   4736      18      Finance\n",
              "100003     668   6425       3      Banking\n",
              "\n",
              "[100004 rows x 4 columns]"
            ]
          },
          "metadata": {
            "tags": []
          },
          "execution_count": 24
        }
      ]
    },
    {
      "cell_type": "code",
      "metadata": {
        "id": "iNArWF53VWjF",
        "colab": {
          "base_uri": "https://localhost:8080/",
          "height": 197
        },
        "outputId": "ba088009-a2a2-4690-da35-93bc6e64dce0"
      },
      "source": [
        "jj.sort_values('jobID').head()"
      ],
      "execution_count": null,
      "outputs": [
        {
          "output_type": "execute_result",
          "data": {
            "text/html": [
              "<div>\n",
              "<style scoped>\n",
              "    .dataframe tbody tr th:only-of-type {\n",
              "        vertical-align: middle;\n",
              "    }\n",
              "\n",
              "    .dataframe tbody tr th {\n",
              "        vertical-align: top;\n",
              "    }\n",
              "\n",
              "    .dataframe thead th {\n",
              "        text-align: right;\n",
              "    }\n",
              "</style>\n",
              "<table border=\"1\" class=\"dataframe\">\n",
              "  <thead>\n",
              "    <tr style=\"text-align: right;\">\n",
              "      <th></th>\n",
              "      <th>userId</th>\n",
              "      <th>jobID</th>\n",
              "      <th>Clicks</th>\n",
              "      <th>job_category</th>\n",
              "    </tr>\n",
              "  </thead>\n",
              "  <tbody>\n",
              "    <tr>\n",
              "      <th>31535</th>\n",
              "      <td>586</td>\n",
              "      <td>1</td>\n",
              "      <td>90</td>\n",
              "      <td>IT</td>\n",
              "    </tr>\n",
              "    <tr>\n",
              "      <th>31471</th>\n",
              "      <td>434</td>\n",
              "      <td>1</td>\n",
              "      <td>31</td>\n",
              "      <td>IT</td>\n",
              "    </tr>\n",
              "    <tr>\n",
              "      <th>31472</th>\n",
              "      <td>437</td>\n",
              "      <td>1</td>\n",
              "      <td>51</td>\n",
              "      <td>IT</td>\n",
              "    </tr>\n",
              "    <tr>\n",
              "      <th>31473</th>\n",
              "      <td>440</td>\n",
              "      <td>1</td>\n",
              "      <td>66</td>\n",
              "      <td>IT</td>\n",
              "    </tr>\n",
              "    <tr>\n",
              "      <th>31474</th>\n",
              "      <td>442</td>\n",
              "      <td>1</td>\n",
              "      <td>48</td>\n",
              "      <td>IT</td>\n",
              "    </tr>\n",
              "  </tbody>\n",
              "</table>\n",
              "</div>"
            ],
            "text/plain": [
              "       userId  jobID  Clicks job_category\n",
              "31535     586      1      90           IT\n",
              "31471     434      1      31           IT\n",
              "31472     437      1      51           IT\n",
              "31473     440      1      66           IT\n",
              "31474     442      1      48           IT"
            ]
          },
          "metadata": {
            "tags": []
          },
          "execution_count": 25
        }
      ]
    },
    {
      "cell_type": "code",
      "metadata": {
        "id": "9HY0NxgZWZzP",
        "colab": {
          "base_uri": "https://localhost:8080/"
        },
        "outputId": "a2deaf97-979a-40c6-88c3-56b419e5e251"
      },
      "source": [
        "jj.isnull().any()"
      ],
      "execution_count": null,
      "outputs": [
        {
          "output_type": "execute_result",
          "data": {
            "text/plain": [
              "userId          False\n",
              "jobID           False\n",
              "Clicks          False\n",
              "job_category    False\n",
              "dtype: bool"
            ]
          },
          "metadata": {
            "tags": []
          },
          "execution_count": 27
        }
      ]
    },
    {
      "cell_type": "code",
      "metadata": {
        "id": "PUX0KHT1WdX7",
        "colab": {
          "base_uri": "https://localhost:8080/"
        },
        "outputId": "92d8f922-bb2a-4312-aa34-5c5db44df8b0"
      },
      "source": [
        "asso = jj.groupby('userId')['job_category'].apply(list)\n",
        "asso"
      ],
      "execution_count": null,
      "outputs": [
        {
          "output_type": "execute_result",
          "data": {
            "text/plain": [
              "userId\n",
              "1      [Finance, HR, Management, Management, Manageme...\n",
              "2      [IT, IT, Finance, Finance, Retail, Retail, Ret...\n",
              "3      [IT, HR, IT, IT, HR, HR, HR, HR, Retail, Banki...\n",
              "4      [Management, IT, IT, IT, Marketing, IT, IT, Ba...\n",
              "5      [IT, Finance, IT, IT, IT, IT, IT, HR, HR, HR, ...\n",
              "                             ...                        \n",
              "667    [IT, IT, IT, IT, IT, IT, Banking, Banking, HR,...\n",
              "668    [HR, HR, HR, HR, Management, Management, Marke...\n",
              "669    [IT, Banking, Finance, Management, Retial, Mar...\n",
              "670    [Finance, Retail, IT, IT, Finance, HR, HR, HR,...\n",
              "671    [Marketing, Retail, HR, IT, IT, Finance, HR, H...\n",
              "Name: job_category, Length: 671, dtype: object"
            ]
          },
          "metadata": {
            "tags": []
          },
          "execution_count": 28
        }
      ]
    },
    {
      "cell_type": "code",
      "metadata": {
        "id": "bEF-c6rnWr55",
        "colab": {
          "base_uri": "https://localhost:8080/"
        },
        "outputId": "7dba8fb0-63b3-4660-99ed-982bcffc6597"
      },
      "source": [
        "!pip install apyori"
      ],
      "execution_count": null,
      "outputs": [
        {
          "output_type": "stream",
          "text": [
            "Collecting apyori\n",
            "  Downloading https://files.pythonhosted.org/packages/5e/62/5ffde5c473ea4b033490617ec5caa80d59804875ad3c3c57c0976533a21a/apyori-1.1.2.tar.gz\n",
            "Building wheels for collected packages: apyori\n",
            "  Building wheel for apyori (setup.py) ... \u001b[?25l\u001b[?25hdone\n",
            "  Created wheel for apyori: filename=apyori-1.1.2-cp36-none-any.whl size=5975 sha256=7ce5375d763bf61ef8f0293c9ceb057858dd3852f6dd582393b8612a75bda6ab\n",
            "  Stored in directory: /root/.cache/pip/wheels/5d/92/bb/474bbadbc8c0062b9eb168f69982a0443263f8ab1711a8cad0\n",
            "Successfully built apyori\n",
            "Installing collected packages: apyori\n",
            "Successfully installed apyori-1.1.2\n"
          ],
          "name": "stdout"
        }
      ]
    },
    {
      "cell_type": "code",
      "metadata": {
        "id": "vbhRSZdLWvHV"
      },
      "source": [
        "from apyori import apriori"
      ],
      "execution_count": null,
      "outputs": []
    },
    {
      "cell_type": "code",
      "metadata": {
        "id": "15tS4Xl1W2gy",
        "colab": {
          "base_uri": "https://localhost:8080/"
        },
        "outputId": "5cad5284-0af6-4a6a-a73f-1b17636ed5b6"
      },
      "source": [
        "list(apriori(asso,min_support=0.9,min_confidence=0.99))"
      ],
      "execution_count": null,
      "outputs": [
        {
          "output_type": "execute_result",
          "data": {
            "text/plain": [
              "[RelationRecord(items=frozenset({'HR'}), support=0.9955290611028316, ordered_statistics=[OrderedStatistic(items_base=frozenset(), items_add=frozenset({'HR'}), confidence=0.9955290611028316, lift=1.0)]),\n",
              " RelationRecord(items=frozenset({'IT'}), support=0.9970193740685543, ordered_statistics=[OrderedStatistic(items_base=frozenset(), items_add=frozenset({'IT'}), confidence=0.9970193740685543, lift=1.0)]),\n",
              " RelationRecord(items=frozenset({'HR', 'Finance'}), support=0.9344262295081968, ordered_statistics=[OrderedStatistic(items_base=frozenset({'Finance'}), items_add=frozenset({'HR'}), confidence=0.998407643312102, lift=1.0028915099736833)]),\n",
              " RelationRecord(items=frozenset({'IT', 'Finance'}), support=0.9344262295081968, ordered_statistics=[OrderedStatistic(items_base=frozenset({'Finance'}), items_add=frozenset({'IT'}), confidence=0.998407643312102, lift=1.0013924195252921)]),\n",
              " RelationRecord(items=frozenset({'HR', 'IT'}), support=0.992548435171386, ordered_statistics=[OrderedStatistic(items_base=frozenset(), items_add=frozenset({'HR', 'IT'}), confidence=0.992548435171386, lift=1.0), OrderedStatistic(items_base=frozenset({'HR'}), items_add=frozenset({'IT'}), confidence=0.9970059880239521, lift=0.9999865739373273), OrderedStatistic(items_base=frozenset({'IT'}), items_add=frozenset({'HR'}), confidence=0.9955156950672647, lift=0.9999865739373273)]),\n",
              " RelationRecord(items=frozenset({'HR', 'IT', 'Finance'}), support=0.9329359165424739, ordered_statistics=[OrderedStatistic(items_base=frozenset({'Finance'}), items_add=frozenset({'HR', 'IT'}), confidence=0.9968152866242037, lift=1.004298884872133), OrderedStatistic(items_base=frozenset({'HR', 'Finance'}), items_add=frozenset({'IT'}), confidence=0.9984051036682615, lift=1.0013898722890935), OrderedStatistic(items_base=frozenset({'IT', 'Finance'}), items_add=frozenset({'HR'}), confidence=0.9984051036682615, lift=1.0028889589242567)])]"
            ]
          },
          "metadata": {
            "tags": []
          },
          "execution_count": 33
        }
      ]
    },
    {
      "cell_type": "code",
      "metadata": {
        "id": "jGuOtR3wW4wn"
      },
      "source": [
        ""
      ],
      "execution_count": null,
      "outputs": []
    }
  ]
}